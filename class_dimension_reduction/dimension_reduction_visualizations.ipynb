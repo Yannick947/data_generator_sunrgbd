{
 "metadata": {
  "language_info": {
   "codemirror_mode": {
    "name": "ipython",
    "version": 3
   },
   "file_extension": ".py",
   "mimetype": "text/x-python",
   "name": "python",
   "nbconvert_exporter": "python",
   "pygments_lexer": "ipython3",
   "version": "3.7.3-final"
  },
  "orig_nbformat": 2,
  "kernelspec": {
   "name": "python3",
   "display_name": "Python 3"
  }
 },
 "nbformat": 4,
 "nbformat_minor": 2,
 "cells": [
  {
   "cell_type": "code",
   "execution_count": 3,
   "metadata": {},
   "outputs": [],
   "source": [
    "import os\n",
    "import sys\n",
    "import itertools\n",
    "import math\n",
    "import logging\n",
    "import json\n",
    "import re\n",
    "import random\n",
    "from collections import OrderedDict\n",
    "import numpy as np\n",
    "import matplotlib\n",
    "import matplotlib.pyplot as plt\n",
    "import matplotlib.patches as patches\n",
    "import matplotlib.lines as lines\n",
    "from matplotlib.patches import Polygon\n",
    "\n",
    "# Root directory of the project\n",
    "ROOT_DIR = os.path.abspath(\"../\")\n",
    "\n",
    "# Import Mask RCNN\n",
    "sys.path.append(ROOT_DIR)  # To find local version of the library\n",
    "\n",
    "from utils import utils\n",
    "from utils import visualize\n",
    "from utils.visualize import display_images\n",
    "\n",
    "%matplotlib inline "
   ]
  },
  {
   "cell_type": "code",
   "execution_count": 4,
   "metadata": {},
   "outputs": [],
   "source": [
    "CLASSES_PATH = 'C:/Users/Yannick/Google Drive/instance_segmentation/data_generator_sunrgbd/sunrgbd_generator/class_map_detected_full.json'\n",
    "CLASSES_TYPOS_REMOVED_PATH = 'C:/Users/Yannick/Google Drive/instance_segmentation/data_generator_sunrgbd/class_dimension_reduction/cleaned_classes.json'\n",
    "CLASSES_MAPPED_PATH = 'C:/Users/Yannick/Google Drive/instance_segmentation/data_generator_sunrgbd/class_dimension_reduction/class_map_cleaned.json'"
   ]
  },
  {
   "cell_type": "code",
   "execution_count": 5,
   "metadata": {},
   "outputs": [],
   "source": [
    "import json\n",
    "import os\n",
    "\n",
    "with open(CLASSES_PATH, 'r') as f:\n",
    "    classes = json.load(f)\n",
    "\n",
    "with open(CLASSES_TYPOS_REMOVED_PATH, 'r') as f:\n",
    "    classes_cleaned = json.load(f)\n",
    "\n",
    "with open(CLASSES_MAPPED_PATH, 'r') as f:\n",
    "    classes_map = json.load(f)\n"
   ]
  },
  {
   "cell_type": "code",
   "execution_count": 6,
   "metadata": {},
   "outputs": [
    {
     "output_type": "stream",
     "name": "stdout",
     "text": [
      "Number of classes after parsing the SUNRGBD dataset:  14424\nNumber of classes remaining after removing typos and numbers  8876\nNumber of classes remaining for training 9\nClasses remaining for training {'wardrobe', 'sofa', 'table', 'chair', 'tool', 'desk', 'bed', 'bookcase', 'unknown'}\n"
     ]
    }
   ],
   "source": [
    "print('Number of classes after parsing the SUNRGBD dataset: ', len(set(classes)))\n",
    "print('Number of classes remaining after removing typos and numbers ', len(set(classes_cleaned.values())))\n",
    "print('Number of classes remaining for training',len(set(classes_map.values())))\n",
    "print('Classes remaining for training', set(classes_map.values()))"
   ]
  },
  {
   "source": [
    "### DISPLAY SAMPLE IMAGES AND ANNOTATIONS"
   ],
   "cell_type": "markdown",
   "metadata": {}
  },
  {
   "cell_type": "code",
   "execution_count": 12,
   "metadata": {},
   "outputs": [],
   "source": [
    "with open('../via_regions.json', 'r') as f:\n",
    "    annotations = json.load(f)\n"
   ]
  },
  {
   "cell_type": "code",
   "execution_count": 15,
   "metadata": {},
   "outputs": [
    {
     "output_type": "stream",
     "name": "stdout",
     "text": [
      "{'path_to_image': 'kv2\\\\kinect2data\\\\003333_2014-05-15_19-15-32_094959634447_rgbf000100-resize\\\\image\\\\0000100.jpg', 'image_name': '0000100.jpg', 'regions': [{'name': 'polygon', 'all_points_x': [484, 583, 537, -45, -42, 31, 79, 94, 47, 58, 55, 85, 165, 202, 179, 261, 358, 354, 368, 478], 'all_points_y': [325, 364, 525, 522, 461, 421, 496, 479, 390, 379, 335, 321, 382, 339, 416, 479, 422, 479, 487, 398]}, {'name': 'polygon', 'all_points_x': [91, 368, 359, 371, 470, 487, 501, 501, 213, 89], 'all_points_y': [196, 312, 482, 486, 399, 264, 253, 247, 164, 182]}, {'name': 'polygon', 'all_points_x': [89, 156, 207, 181, 80, 100], 'all_points_y': [331, 372, 321, 240, 189, 261]}, {'name': 'polygon', 'all_points_x': [-107, -98, -95, -83, -58, -43, -59, -57, -70, -66, -87, -108], 'all_points_y': [317, 270, 238, 211, 210, 224, 251, 316, 331, 342, 346, 335]}, {'name': 'polygon', 'all_points_x': [459, 470, 415, 405], 'all_points_y': [230, 207, 196, 217]}, {'name': 'polygon', 'all_points_x': [185, 264, 352, 335, 274, 259, 192, 185, 205], 'all_points_y': [412, 475, 421, 318, 286, 290, 248, 253, 329]}, {'name': 'polygon', 'all_points_x': [92, 44, 57, 54, 65, 7, -16, -27, -27, -106, -106, -72, -39, -41, -37, 37, 78], 'all_points_y': [479, 390, 380, 307, 265, 235, 250, 300, 317, 346, 369, 379, 410, 437, 453, 417, 494]}], 'classes': ['bed', 'table', 'chair', 'chair', 'chair', 'chair', 'chair'], 'id': 5299, 'image_width': 730, 'image_height': 530}\n"
     ]
    }
   ],
   "source": [
    "random_sample_num = random.randint(0, len(annotations['labels']))\n",
    "random_annotation = annotations['labels'][random_sample_num]\n",
    "print(random_annotation)"
   ]
  }
 ]
}
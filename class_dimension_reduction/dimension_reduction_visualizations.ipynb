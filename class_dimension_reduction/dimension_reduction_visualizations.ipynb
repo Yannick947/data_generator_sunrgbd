{
 "metadata": {
  "language_info": {
   "codemirror_mode": {
    "name": "ipython",
    "version": 3
   },
   "file_extension": ".py",
   "mimetype": "text/x-python",
   "name": "python",
   "nbconvert_exporter": "python",
   "pygments_lexer": "ipython3",
   "version": "3.7.3-final"
  },
  "orig_nbformat": 2,
  "kernelspec": {
   "name": "python3",
   "display_name": "Python 3"
  }
 },
 "nbformat": 4,
 "nbformat_minor": 2,
 "cells": [
  {
   "cell_type": "code",
   "execution_count": 1,
   "metadata": {},
   "outputs": [],
   "source": [
    "CLASSES_PATH = 'C:/Users/Yannick/Google Drive/instance_segmentation/data_generator_sunrgbd/class_map_detected_full.json'\n",
    "CLASSES_TYPOS_REMOVED_PATH = 'C:/Users/Yannick/Google Drive/instance_segmentation/data_generator_sunrgbd/class_dimension_reduction/cleaned_classes.json'"
   ]
  },
  {
   "cell_type": "code",
   "execution_count": 4,
   "metadata": {},
   "outputs": [],
   "source": [
    "import json\n",
    "import os\n",
    "\n",
    "with open(CLASSES_PATH, 'r') as f:\n",
    "    classes = json.load(f)\n",
    "    \n",
    "with open(CLASSES_TYPOS_REMOVED_PATH, 'r') as f:\n",
    "    classes_cleaned = json.load(f)\n",
    "\n"
   ]
  },
  {
   "cell_type": "code",
   "execution_count": 8,
   "metadata": {},
   "outputs": [
    {
     "output_type": "stream",
     "name": "stdout",
     "text": [
      "14424\n9103\n"
     ]
    }
   ],
   "source": [
    "print(len(set(classes)))\n",
    "print(len(set(classes_cleaned['classes'])))"
   ]
  }
 ]
}